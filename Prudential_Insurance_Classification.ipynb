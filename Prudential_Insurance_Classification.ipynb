{
  "nbformat": 4,
  "nbformat_minor": 0,
  "metadata": {
    "colab": {
      "provenance": [],
      "mount_file_id": "13nz_cDiX4Wqrm5iMtMMMwDO4g0JWuf5g",
      "authorship_tag": "ABX9TyMudI+iRBKWElsapPBU10wp",
      "include_colab_link": true
    },
    "kernelspec": {
      "name": "python3",
      "display_name": "Python 3"
    },
    "language_info": {
      "name": "python"
    }
  },
  "cells": [
    {
      "cell_type": "markdown",
      "metadata": {
        "id": "view-in-github",
        "colab_type": "text"
      },
      "source": [
        "<a href=\"https://colab.research.google.com/github/christopher540/Prudential_Insurance_Classification/blob/main/Prudential_Insurance_Classification.ipynb\" target=\"_parent\"><img src=\"https://colab.research.google.com/assets/colab-badge.svg\" alt=\"Open In Colab\"/></a>"
      ]
    },
    {
      "cell_type": "markdown",
      "source": [
        "**Risk Level Prediction Model for Life Insurance Applications**\n",
        "\n",
        "In this project, we will aim to streamline the risk assessment process which might be later used to calculate premium costs that should be incurred to clients\n"
      ],
      "metadata": {
        "id": "ZwPnni4uresn"
      }
    },
    {
      "cell_type": "markdown",
      "source": [
        "**Dataset Description**\n",
        "\n",
        "In this [dataset](https://www.kaggle.com/competitions/prudential-life-insurance-assessment/data), we are provided with variables related to the applicants. The task is to predict the Response variable for each applicants in the test data set. Response is an ordinal measure of risk that has 8 levels.\n",
        "\n"
      ],
      "metadata": {
        "id": "aUYT_biLr9bj"
      }
    },
    {
      "cell_type": "markdown",
      "source": [
        "**Model Selection**\n",
        "To predict the life insurance risk classification, we've employed several  machine learning models, including QDA, AdaBoost Classifier, and Random Forest\n",
        "\n"
      ],
      "metadata": {
        "id": "3w4MdvSHsZv7"
      }
    },
    {
      "cell_type": "markdown",
      "source": [
        "**Evaluation Metrics**\n",
        "To evaluate the effectiveness of our models, we've selected performance metrics that align with our project goals, mainly we'll focus on the accuracy score\n",
        "\n"
      ],
      "metadata": {
        "id": "G3l-xW0Ps7cf"
      }
    },
    {
      "cell_type": "markdown",
      "source": [
        "### Data Preprocessing"
      ],
      "metadata": {
        "id": "AqacJAebtDT5"
      }
    },
    {
      "cell_type": "code",
      "execution_count": null,
      "metadata": {
        "id": "6e44jHd6ppfv"
      },
      "outputs": [],
      "source": [
        "import pandas as pd\n",
        "import numpy as np\n",
        "import seaborn as sns"
      ]
    },
    {
      "cell_type": "code",
      "source": [
        "df_train = pd.read_csv('/content/drive/MyDrive/Prudential Data/train.csv')\n",
        "df_test=pd.read_csv('/content/drive/MyDrive/Prudential Data/test.csv')"
      ],
      "metadata": {
        "id": "5kq3uacgp2Nu"
      },
      "execution_count": null,
      "outputs": []
    },
    {
      "cell_type": "markdown",
      "source": [
        "#### Handle Null Values"
      ],
      "metadata": {
        "id": "St6fppA-tUmM"
      }
    },
    {
      "cell_type": "code",
      "source": [
        "def find_null(df):\n",
        "  null_cols=df.columns[df.isnull().any()]\n",
        "  null_sum=df[null_cols].isnull().sum()\n",
        "  print(f\"Columns will null values:\\n{null_sum}\")\n",
        "\n",
        "find_null(df_train)\n",
        "print()\n",
        "find_null(df_test)"
      ],
      "metadata": {
        "colab": {
          "base_uri": "https://localhost:8080/"
        },
        "id": "_zE2EkFfqLx3",
        "outputId": "dc1ae332-7cf0-417b-bf54-657ec3ac2a34"
      },
      "execution_count": null,
      "outputs": [
        {
          "output_type": "stream",
          "name": "stdout",
          "text": [
            "Columns will null values:\n",
            "Employment_Info_1         19\n",
            "Employment_Info_4       6779\n",
            "Employment_Info_6      10854\n",
            "Insurance_History_5    25396\n",
            "Family_Hist_2          28656\n",
            "Family_Hist_3          34241\n",
            "Family_Hist_4          19184\n",
            "Family_Hist_5          41811\n",
            "Medical_History_1       8889\n",
            "Medical_History_10     58824\n",
            "Medical_History_15     44596\n",
            "Medical_History_24     55580\n",
            "Medical_History_32     58274\n",
            "dtype: int64\n",
            "\n",
            "Columns will null values:\n",
            "Employment_Info_1          3\n",
            "Employment_Info_4       2137\n",
            "Employment_Info_6       3787\n",
            "Insurance_History_5     8105\n",
            "Family_Hist_2           9880\n",
            "Family_Hist_3          11064\n",
            "Family_Hist_4           6677\n",
            "Family_Hist_5          13624\n",
            "Medical_History_1       2972\n",
            "Medical_History_10     19564\n",
            "Medical_History_15     14864\n",
            "Medical_History_24     18585\n",
            "Medical_History_32     19414\n",
            "dtype: int64\n"
          ]
        }
      ]
    },
    {
      "cell_type": "markdown",
      "source": [
        "The columns that have missing values is the same for both train and test data, here we will drop columns with more than 75% null values"
      ],
      "metadata": {
        "id": "-n4f7IfzukFB"
      }
    },
    {
      "cell_type": "code",
      "source": [
        "threshold=int(np.round(df_train.shape[0]*0.75))\n",
        "null_cols=df_train.columns[df_train.isnull().sum()>=threshold]\n",
        "print(f\"Minimum number of null values to drop: {threshold}\")\n",
        "print(f\"Columns to Drop:\\n{null_cols}\")\n",
        "\n",
        "#Drop columns\n",
        "df_train.drop(columns=null_cols,inplace=True)\n",
        "df_test.drop(columns=null_cols,inplace=True)"
      ],
      "metadata": {
        "colab": {
          "base_uri": "https://localhost:8080/"
        },
        "id": "GiJ85JoZtiH5",
        "outputId": "b4aaed04-1247-4ffd-829f-d0c3841d8846"
      },
      "execution_count": null,
      "outputs": [
        {
          "output_type": "stream",
          "name": "stdout",
          "text": [
            "Minimum number of null values to drop: 44536\n",
            "Columns to Drop:\n",
            "Index(['Medical_History_10', 'Medical_History_15', 'Medical_History_24',\n",
            "       'Medical_History_32'],\n",
            "      dtype='object')\n"
          ]
        }
      ]
    },
    {
      "cell_type": "markdown",
      "source": [
        "Fill all Null Values with column mean for numerical columns"
      ],
      "metadata": {
        "id": "FCg1r9kLwTYS"
      }
    },
    {
      "cell_type": "code",
      "source": [
        "# Fill train and test data null values with mean:\n",
        "numerical_columns_train = df_train.select_dtypes(include=['number']).columns\n",
        "df_train[numerical_columns_train]=df_train[numerical_columns_train].fillna(df_train[numerical_columns_train].mean())\n",
        "\n",
        "numerical_columns_test=df_test.select_dtypes(include=['number']).columns\n",
        "df_test[numerical_columns_test]=df_test[numerical_columns_test].fillna(df_test[numerical_columns_test].mean())\n"
      ],
      "metadata": {
        "id": "2aFS3zY0vBzi"
      },
      "execution_count": null,
      "outputs": []
    },
    {
      "cell_type": "markdown",
      "source": [
        "### Exploratory Data Analysis"
      ],
      "metadata": {
        "id": "mlRVFcBlzf8Y"
      }
    },
    {
      "cell_type": "markdown",
      "source": [
        "Continuous Data"
      ],
      "metadata": {
        "id": "PrX-DnHLzjtC"
      }
    },
    {
      "cell_type": "code",
      "source": [
        "import seaborn as sns\n",
        "import matplotlib.pyplot as plt\n",
        "continuous = ['Product_Info_4', 'Ins_Age', 'Ht', 'Wt', 'BMI', 'Employment_Info_1',\n",
        "              'Employment_Info_4', 'Employment_Info_6', 'Insurance_History_5',\n",
        "              'Family_Hist_2','Family_Hist_3', 'Family_Hist_4','Family_Hist_5']\n",
        "sns.boxplot(data=df_train[continuous],orient='h')\n",
        "plt.title(\"Box Plots for Continuous Columns\")\n",
        "plt.xlabel(\"Value\")\n"
      ],
      "metadata": {
        "colab": {
          "base_uri": "https://localhost:8080/",
          "height": 489
        },
        "id": "Wes7diORwxSo",
        "outputId": "990ce823-2ef8-4889-8b6c-5a70ad6400c7"
      },
      "execution_count": null,
      "outputs": [
        {
          "output_type": "execute_result",
          "data": {
            "text/plain": [
              "Text(0.5, 0, 'Value')"
            ]
          },
          "metadata": {},
          "execution_count": 153
        },
        {
          "output_type": "display_data",
          "data": {
            "text/plain": [
              "<Figure size 640x480 with 1 Axes>"
            ],
            "image/png": "[encoded data removed]"
          },
          "metadata": {}
        }
      ]
    },
    {
      "cell_type": "markdown",
      "source": [
        "Categorical Data"
      ],
      "metadata": {
        "id": "zji2wizEnmmd"
      }
    },
    {
      "cell_type": "code",
      "source": [
        "df_train.select_dtypes(include=['object','category'])"
      ],
      "metadata": {
        "colab": {
          "base_uri": "https://localhost:8080/",
          "height": 424
        },
        "id": "LLC7ozeTnoQx",
        "outputId": "6b0541d9-d232-487b-8dd2-eddb2660f904"
      },
      "execution_count": null,
      "outputs": [
        {
          "output_type": "execute_result",
          "data": {
            "text/plain": [
              "      Product_Info_2\n",
              "0                 D3\n",
              "1                 A1\n",
              "2                 E1\n",
              "3                 D4\n",
              "4                 D2\n",
              "...              ...\n",
              "59376             D1\n",
              "59377             D3\n",
              "59378             E1\n",
              "59379             D2\n",
              "59380             A8\n",
              "\n",
              "[59381 rows x 1 columns]"
            ],
            "text/html": [
              "\n",
              "  <div id=\"df-6e32e9aa-2946-4e1b-be8a-439b537610a6\" class=\"colab-df-container\">\n",
              "    <div>\n",
              "<style scoped>\n",
              "    .dataframe tbody tr th:only-of-type {\n",
              "        vertical-align: middle;\n",
              "    }\n",
              "\n",
              "    .dataframe tbody tr th {\n",
              "        vertical-align: top;\n",
              "    }\n",
              "\n",
              "    .dataframe thead th {\n",
              "        text-align: right;\n",
              "    }\n",
              "</style>\n",
              "<table border=\"1\" class=\"dataframe\">\n",
              "  <thead>\n",
              "    <tr style=\"text-align: right;\">\n",
              "      <th></th>\n",
              "      <th>Product_Info_2</th>\n",
              "    </tr>\n",
              "  </thead>\n",
              "  <tbody>\n",
              "    <tr>\n",
              "      <th>0</th>\n",
              "      <td>D3</td>\n",
              "    </tr>\n",
              "    <tr>\n",
              "      <th>1</th>\n",
              "      <td>A1</td>\n",
              "    </tr>\n",
              "    <tr>\n",
              "      <th>2</th>\n",
              "      <td>E1</td>\n",
              "    </tr>\n",
              "    <tr>\n",
              "      <th>3</th>\n",
              "      <td>D4</td>\n",
              "    </tr>\n",
              "    <tr>\n",
              "      <th>4</th>\n",
              "      <td>D2</td>\n",
              "    </tr>\n",
              "    <tr>\n",
              "      <th>...</th>\n",
              "      <td>...</td>\n",
              "    </tr>\n",
              "    <tr>\n",
              "      <th>59376</th>\n",
              "      <td>D1</td>\n",
              "    </tr>\n",
              "    <tr>\n",
              "      <th>59377</th>\n",
              "      <td>D3</td>\n",
              "    </tr>\n",
              "    <tr>\n",
              "      <th>59378</th>\n",
              "      <td>E1</td>\n",
              "    </tr>\n",
              "    <tr>\n",
              "      <th>59379</th>\n",
              "      <td>D2</td>\n",
              "    </tr>\n",
              "    <tr>\n",
              "      <th>59380</th>\n",
              "      <td>A8</td>\n",
              "    </tr>\n",
              "  </tbody>\n",
              "</table>\n",
              "<p>59381 rows × 1 columns</p>\n",
              "</div>\n",
              "    <div class=\"colab-df-buttons\">\n",
              "\n",
              "  <div class=\"colab-df-container\">\n",
              "    <button class=\"colab-df-convert\" onclick=\"convertToInteractive('df-6e32e9aa-2946-4e1b-be8a-439b537610a6')\"\n",
              "            title=\"Convert this dataframe to an interactive table.\"\n",
              "            style=\"display:none;\">\n",
              "\n",
              "  <svg xmlns=\"http://www.w3.org/2000/svg\" height=\"24px\" viewBox=\"0 -960 960 960\">\n",
              "    <path d=\"M120-120v-720h720v720H120Zm60-500h600v-160H180v160Zm220 220h160v-160H400v160Zm0 220h160v-160H400v160ZM180-400h160v-160H180v160Zm440 0h160v-160H620v160ZM180-180h160v-160H180v160Zm440 0h160v-160H620v160Z\"/>\n",
              "  </svg>\n",
              "    </button>\n",
              "\n",
              "  <style>\n",
              "    .colab-df-container {\n",
              "      display:flex;\n",
              "      gap: 12px;\n",
              "    }\n",
              "\n",
              "    .colab-df-convert {\n",
              "      background-color: #E8F0FE;\n",
              "      border: none;\n",
              "      border-radius: 50%;\n",
              "      cursor: pointer;\n",
              "      display: none;\n",
              "      fill: #1967D2;\n",
              "      height: 32px;\n",
              "      padding: 0 0 0 0;\n",
              "      width: 32px;\n",
              "    }\n",
              "\n",
              "    .colab-df-convert:hover {\n",
              "      background-color: #E2EBFA;\n",
              "      box-shadow: 0px 1px 2px rgba(60, 64, 67, 0.3), 0px 1px 3px 1px rgba(60, 64, 67, 0.15);\n",
              "      fill: #174EA6;\n",
              "    }\n",
              "\n",
              "    .colab-df-buttons div {\n",
              "      margin-bottom: 4px;\n",
              "    }\n",
              "\n",
              "    [theme=dark] .colab-df-convert {\n",
              "      background-color: #3B4455;\n",
              "      fill: #D2E3FC;\n",
              "    }\n",
              "\n",
              "    [theme=dark] .colab-df-convert:hover {\n",
              "      background-color: #434B5C;\n",
              "      box-shadow: 0px 1px 3px 1px rgba(0, 0, 0, 0.15);\n",
              "      filter: drop-shadow(0px 1px 2px rgba(0, 0, 0, 0.3));\n",
              "      fill: #FFFFFF;\n",
              "    }\n",
              "  </style>\n",
              "\n",
              "    <script>\n",
              "      const buttonEl =\n",
              "        document.querySelector('#df-6e32e9aa-2946-4e1b-be8a-439b537610a6 button.colab-df-convert');\n",
              "      buttonEl.style.display =\n",
              "        google.colab.kernel.accessAllowed ? 'block' : 'none';\n",
              "\n",
              "      async function convertToInteractive(key) {\n",
              "        const element = document.querySelector('#df-6e32e9aa-2946-4e1b-be8a-439b537610a6');\n",
              "        const dataTable =\n",
              "          await google.colab.kernel.invokeFunction('convertToInteractive',\n",
              "                                                    [key], {});\n",
              "        if (!dataTable) return;\n",
              "\n",
              "        const docLinkHtml = 'Like what you see? Visit the ' +\n",
              "          '<a target=\"_blank\" href=https://colab.research.google.com/notebooks/data_table.ipynb>data table notebook</a>'\n",
              "          + ' to learn more about interactive tables.';\n",
              "        element.innerHTML = '';\n",
              "        dataTable['output_type'] = 'display_data';\n",
              "        await google.colab.output.renderOutput(dataTable, element);\n",
              "        const docLink = document.createElement('div');\n",
              "        docLink.innerHTML = docLinkHtml;\n",
              "        element.appendChild(docLink);\n",
              "      }\n",
              "    </script>\n",
              "  </div>\n",
              "\n",
              "\n",
              "<div id=\"df-22f804d7-86f3-4baa-9e76-38a76fecae9d\">\n",
              "  <button class=\"colab-df-quickchart\" onclick=\"quickchart('df-22f804d7-86f3-4baa-9e76-38a76fecae9d')\"\n",
              "            title=\"Suggest charts\"\n",
              "            style=\"display:none;\">\n",
              "\n",
              "<svg xmlns=\"http://www.w3.org/2000/svg\" height=\"24px\"viewBox=\"0 0 24 24\"\n",
              "     width=\"24px\">\n",
              "    <g>\n",
              "        <path d=\"M19 3H5c-1.1 0-2 .9-2 2v14c0 1.1.9 2 2 2h14c1.1 0 2-.9 2-2V5c0-1.1-.9-2-2-2zM9 17H7v-7h2v7zm4 0h-2V7h2v10zm4 0h-2v-4h2v4z\"/>\n",
              "    </g>\n",
              "</svg>\n",
              "  </button>\n",
              "\n",
              "<style>\n",
              "  .colab-df-quickchart {\n",
              "      --bg-color: #E8F0FE;\n",
              "      --fill-color: #1967D2;\n",
              "      --hover-bg-color: #E2EBFA;\n",
              "      --hover-fill-color: #174EA6;\n",
              "      --disabled-fill-color: #AAA;\n",
              "      --disabled-bg-color: #DDD;\n",
              "  }\n",
              "\n",
              "  [theme=dark] .colab-df-quickchart {\n",
              "      --bg-color: #3B4455;\n",
              "      --fill-color: #D2E3FC;\n",
              "      --hover-bg-color: #434B5C;\n",
              "      --hover-fill-color: #FFFFFF;\n",
              "      --disabled-bg-color: #3B4455;\n",
              "      --disabled-fill-color: #666;\n",
              "  }\n",
              "\n",
              "  .colab-df-quickchart {\n",
              "    background-color: var(--bg-color);\n",
              "    border: none;\n",
              "    border-radius: 50%;\n",
              "    cursor: pointer;\n",
              "    display: none;\n",
              "    fill: var(--fill-color);\n",
              "    height: 32px;\n",
              "    padding: 0;\n",
              "    width: 32px;\n",
              "  }\n",
              "\n",
              "  .colab-df-quickchart:hover {\n",
              "    background-color: var(--hover-bg-color);\n",
              "    box-shadow: 0 1px 2px rgba(60, 64, 67, 0.3), 0 1px 3px 1px rgba(60, 64, 67, 0.15);\n",
              "    fill: var(--button-hover-fill-color);\n",
              "  }\n",
              "\n",
              "  .colab-df-quickchart-complete:disabled,\n",
              "  .colab-df-quickchart-complete:disabled:hover {\n",
              "    background-color: var(--disabled-bg-color);\n",
              "    fill: var(--disabled-fill-color);\n",
              "    box-shadow: none;\n",
              "  }\n",
              "\n",
              "  .colab-df-spinner {\n",
              "    border: 2px solid var(--fill-color);\n",
              "    border-color: transparent;\n",
              "    border-bottom-color: var(--fill-color);\n",
              "    animation:\n",
              "      spin 1s steps(1) infinite;\n",
              "  }\n",
              "\n",
              "  @keyframes spin {\n",
              "    0% {\n",
              "      border-color: transparent;\n",
              "      border-bottom-color: var(--fill-color);\n",
              "      border-left-color: var(--fill-color);\n",
              "    }\n",
              "    20% {\n",
              "      border-color: transparent;\n",
              "      border-left-color: var(--fill-color);\n",
              "      border-top-color: var(--fill-color);\n",
              "    }\n",
              "    30% {\n",
              "      border-color: transparent;\n",
              "      border-left-color: var(--fill-color);\n",
              "      border-top-color: var(--fill-color);\n",
              "      border-right-color: var(--fill-color);\n",
              "    }\n",
              "    40% {\n",
              "      border-color: transparent;\n",
              "      border-right-color: var(--fill-color);\n",
              "      border-top-color: var(--fill-color);\n",
              "    }\n",
              "    60% {\n",
              "      border-color: transparent;\n",
              "      border-right-color: var(--fill-color);\n",
              "    }\n",
              "    80% {\n",
              "      border-color: transparent;\n",
              "      border-right-color: var(--fill-color);\n",
              "      border-bottom-color: var(--fill-color);\n",
              "    }\n",
              "    90% {\n",
              "      border-color: transparent;\n",
              "      border-bottom-color: var(--fill-color);\n",
              "    }\n",
              "  }\n",
              "</style>\n",
              "\n",
              "  <script>\n",
              "    async function quickchart(key) {\n",
              "      const quickchartButtonEl =\n",
              "        document.querySelector('#' + key + ' button');\n",
              "      quickchartButtonEl.disabled = true;  // To prevent multiple clicks.\n",
              "      quickchartButtonEl.classList.add('colab-df-spinner');\n",
              "      try {\n",
              "        const charts = await google.colab.kernel.invokeFunction(\n",
              "            'suggestCharts', [key], {});\n",
              "      } catch (error) {\n",
              "        console.error('Error during call to suggestCharts:', error);\n",
              "      }\n",
              "      quickchartButtonEl.classList.remove('colab-df-spinner');\n",
              "      quickchartButtonEl.classList.add('colab-df-quickchart-complete');\n",
              "    }\n",
              "    (() => {\n",
              "      let quickchartButtonEl =\n",
              "        document.querySelector('#df-22f804d7-86f3-4baa-9e76-38a76fecae9d button');\n",
              "      quickchartButtonEl.style.display =\n",
              "        google.colab.kernel.accessAllowed ? 'block' : 'none';\n",
              "    })();\n",
              "  </script>\n",
              "</div>\n",
              "\n",
              "    </div>\n",
              "  </div>\n"
            ],
            "application/vnd.google.colaboratory.intrinsic+json": {
              "type": "dataframe",
              "summary": "{\n  \"name\": \"df_train\",\n  \"rows\": 59381,\n  \"fields\": [\n    {\n      \"column\": \"Product_Info_2\",\n      \"properties\": {\n        \"dtype\": \"category\",\n        \"num_unique_values\": 19,\n        \"samples\": [\n          \"D3\",\n          \"A8\",\n          \"A5\"\n        ],\n        \"semantic_type\": \"\",\n        \"description\": \"\"\n      }\n    }\n  ]\n}"
            }
          },
          "metadata": {},
          "execution_count": 154
        }
      ]
    },
    {
      "cell_type": "code",
      "source": [
        "sns.countplot(data=df_train,x='Product_Info_2')"
      ],
      "metadata": {
        "colab": {
          "base_uri": "https://localhost:8080/",
          "height": 467
        },
        "id": "X_MDvUTnnyve",
        "outputId": "cd9b4eef-48cc-4c45-c303-b91485b246e7"
      },
      "execution_count": null,
      "outputs": [
        {
          "output_type": "execute_result",
          "data": {
            "text/plain": [
              "<Axes: xlabel='Product_Info_2', ylabel='count'>"
            ]
          },
          "metadata": {},
          "execution_count": 155
        },
        {
          "output_type": "display_data",
          "data": {
            "text/plain": [
              "<Figure size 640x480 with 1 Axes>"
            ],
            "image/png": "[encoded data removed]"
          },
          "metadata": {}
        }
      ]
    },
    {
      "cell_type": "markdown",
      "source": [
        "This column explains which insurance product an applicant is applying for. We observed that D3 is the most common product and overall, there are products that are more popular than the other (ie. D3,D4,D2,A8,D1)"
      ],
      "metadata": {
        "id": "wbdQso9DntGG"
      }
    },
    {
      "cell_type": "markdown",
      "source": [
        "We observe that the continuous data go from 0 to 1 and some outliers are present, however dropping rows is not viable as it is too much, thus we can rely on feature selection to provide a more generalized prediction (less variance)"
      ],
      "metadata": {
        "id": "qcGmoK320O4X"
      }
    },
    {
      "cell_type": "markdown",
      "source": [
        "### Correlation Analysis"
      ],
      "metadata": {
        "id": "FdTtRJvD3wUW"
      }
    },
    {
      "cell_type": "code",
      "source": [
        "df_train.columns"
      ],
      "metadata": {
        "colab": {
          "base_uri": "https://localhost:8080/"
        },
        "id": "7IylyCne9qQO",
        "outputId": "5614986c-20b4-4349-c419-a6c8fa893307"
      },
      "execution_count": null,
      "outputs": [
        {
          "output_type": "execute_result",
          "data": {
            "text/plain": [
              "Index(['Id', 'Product_Info_1', 'Product_Info_2', 'Product_Info_3',\n",
              "       'Product_Info_4', 'Product_Info_5', 'Product_Info_6', 'Product_Info_7',\n",
              "       'Ins_Age', 'Ht',\n",
              "       ...\n",
              "       'Medical_Keyword_40', 'Medical_Keyword_41', 'Medical_Keyword_42',\n",
              "       'Medical_Keyword_43', 'Medical_Keyword_44', 'Medical_Keyword_45',\n",
              "       'Medical_Keyword_46', 'Medical_Keyword_47', 'Medical_Keyword_48',\n",
              "       'Response'],\n",
              "      dtype='object', length=124)"
            ]
          },
          "metadata": {},
          "execution_count": 156
        }
      ]
    },
    {
      "cell_type": "code",
      "source": [
        "# Assuming df is your DataFrame and 'target' is your target variable\n",
        "target_variable = 'Response'  # Replace with your actual target variable name\n",
        "\n",
        "# Create a correlation series with the target variable\n",
        "correlation_with_target = df_train.select_dtypes(include=['number']).corr()[target_variable]\n",
        "\n",
        "correlation_with_target.sort_values()"
      ],
      "metadata": {
        "colab": {
          "base_uri": "https://localhost:8080/",
          "height": 458
        },
        "id": "m8CodnAax3WZ",
        "outputId": "b415ff60-ba69-4fa6-bc65-5520754e5e1b"
      },
      "execution_count": null,
      "outputs": [
        {
          "output_type": "execute_result",
          "data": {
            "text/plain": [
              "BMI                  -0.381601\n",
              "Wt                   -0.351395\n",
              "Medical_Keyword_15   -0.259169\n",
              "Medical_Keyword_3    -0.257706\n",
              "Ins_Age              -0.209610\n",
              "                        ...   \n",
              "Product_Info_4        0.202434\n",
              "Medical_History_39    0.220176\n",
              "Medical_History_4     0.239896\n",
              "Medical_History_23    0.286584\n",
              "Response              1.000000\n",
              "Name: Response, Length: 123, dtype: float64"
            ],
            "text/html": [
              "<div>\n",
              "<style scoped>\n",
              "    .dataframe tbody tr th:only-of-type {\n",
              "        vertical-align: middle;\n",
              "    }\n",
              "\n",
              "    .dataframe tbody tr th {\n",
              "        vertical-align: top;\n",
              "    }\n",
              "\n",
              "    .dataframe thead th {\n",
              "        text-align: right;\n",
              "    }\n",
              "</style>\n",
              "<table border=\"1\" class=\"dataframe\">\n",
              "  <thead>\n",
              "    <tr style=\"text-align: right;\">\n",
              "      <th></th>\n",
              "      <th>Response</th>\n",
              "    </tr>\n",
              "  </thead>\n",
              "  <tbody>\n",
              "    <tr>\n",
              "      <th>BMI</th>\n",
              "      <td>-0.381601</td>\n",
              "    </tr>\n",
              "    <tr>\n",
              "      <th>Wt</th>\n",
              "      <td>-0.351395</td>\n",
              "    </tr>\n",
              "    <tr>\n",
              "      <th>Medical_Keyword_15</th>\n",
              "      <td>-0.259169</td>\n",
              "    </tr>\n",
              "    <tr>\n",
              "      <th>Medical_Keyword_3</th>\n",
              "      <td>-0.257706</td>\n",
              "    </tr>\n",
              "    <tr>\n",
              "      <th>Ins_Age</th>\n",
              "      <td>-0.209610</td>\n",
              "    </tr>\n",
              "    <tr>\n",
              "      <th>...</th>\n",
              "      <td>...</td>\n",
              "    </tr>\n",
              "    <tr>\n",
              "      <th>Product_Info_4</th>\n",
              "      <td>0.202434</td>\n",
              "    </tr>\n",
              "    <tr>\n",
              "      <th>Medical_History_39</th>\n",
              "      <td>0.220176</td>\n",
              "    </tr>\n",
              "    <tr>\n",
              "      <th>Medical_History_4</th>\n",
              "      <td>0.239896</td>\n",
              "    </tr>\n",
              "    <tr>\n",
              "      <th>Medical_History_23</th>\n",
              "      <td>0.286584</td>\n",
              "    </tr>\n",
              "    <tr>\n",
              "      <th>Response</th>\n",
              "      <td>1.000000</td>\n",
              "    </tr>\n",
              "  </tbody>\n",
              "</table>\n",
              "<p>123 rows × 1 columns</p>\n",
              "</div><br><label><b>dtype:</b> float64</label>"
            ]
          },
          "metadata": {},
          "execution_count": 157
        }
      ]
    },
    {
      "cell_type": "markdown",
      "source": [
        "It is observed that BMI and weight show some correlation with the risk level of the applicant, followed by medical keyword 15,3. Age also play a role in determining the risk level."
      ],
      "metadata": {
        "id": "4RXeX7zhmndm"
      }
    },
    {
      "cell_type": "markdown",
      "source": [
        "### Modelling"
      ],
      "metadata": {
        "id": "mh1LptyI1Ubp"
      }
    },
    {
      "cell_type": "markdown",
      "source": [
        "Modellng: Data Preprocessing"
      ],
      "metadata": {
        "id": "7DybIcxToQ3o"
      }
    },
    {
      "cell_type": "code",
      "source": [
        "#Put Id as index\n",
        "df_train.index=df_train['Id']\n",
        "df_train=df_train.drop(['Id'],axis=1)\n",
        "\n",
        "df_test.index=df_test['Id']\n",
        "df_test=df_test.drop(['Id'],axis=1)"
      ],
      "metadata": {
        "id": "uZN4abTr4pSo"
      },
      "execution_count": null,
      "outputs": []
    },
    {
      "cell_type": "code",
      "source": [
        "df_train=pd.get_dummies(df_train)\n",
        "df_test=pd.get_dummies(df_test)"
      ],
      "metadata": {
        "id": "9_PpPAfApd6D"
      },
      "execution_count": null,
      "outputs": []
    },
    {
      "cell_type": "markdown",
      "source": [
        "Model: Data Fitting"
      ],
      "metadata": {
        "id": "jssd0yT5rAg1"
      }
    },
    {
      "cell_type": "markdown",
      "source": [
        "The best model will be determined through accuracy score with 5-fold cross validation"
      ],
      "metadata": {
        "id": "d7rzlslDrC2T"
      }
    },
    {
      "cell_type": "code",
      "source": [
        "X=df_train.drop(['Response'],axis=1)\n",
        "y=df_train['Response']\n",
        "\n"
      ],
      "metadata": {
        "id": "47-0HQ_RsMDy"
      },
      "execution_count": null,
      "outputs": []
    },
    {
      "cell_type": "markdown",
      "source": [
        "Quadratic Discriminant Analysis"
      ],
      "metadata": {
        "id": "NFbiJcrxtaIu"
      }
    },
    {
      "cell_type": "code",
      "source": [
        "from sklearn.discriminant_analysis import QuadraticDiscriminantAnalysis\n",
        "from sklearn.model_selection import cross_val_score\n",
        "import warnings\n",
        "\n",
        "warnings.filterwarnings(\"ignore\")\n",
        "model=QuadraticDiscriminantAnalysis()\n",
        "scores = cross_val_score(model, X, y, cv=5)\n",
        "\n",
        "mean_accuracy = scores.mean()\n",
        "print(f\"Mean accuracy: {mean_accuracy}\")\n",
        "\n",
        "\n"
      ],
      "metadata": {
        "colab": {
          "base_uri": "https://localhost:8080/"
        },
        "id": "AFp_8dSarB5I",
        "outputId": "71b75bdb-3802-4313-bbf7-2a4c52e56b7a"
      },
      "execution_count": null,
      "outputs": [
        {
          "output_type": "stream",
          "name": "stdout",
          "text": [
            "Mean accuracy: 0.1058580281159078\n"
          ]
        }
      ]
    },
    {
      "cell_type": "markdown",
      "source": [
        "Random Forrest"
      ],
      "metadata": {
        "id": "nZUUv0Qyuv4l"
      }
    },
    {
      "cell_type": "code",
      "source": [
        "from sklearn.ensemble import RandomForestClassifier\n",
        "model = RandomForestClassifier()\n",
        "scores = cross_val_score(model, X, y, cv=5)\n",
        "\n",
        "mean_accuracy = scores.mean()\n",
        "print(f\"Mean accuracy: {mean_accuracy}\")"
      ],
      "metadata": {
        "colab": {
          "base_uri": "https://localhost:8080/"
        },
        "id": "rHMkM1J3sIwC",
        "outputId": "cf7a1cbc-e22d-4fb3-899a-176108f29aa5"
      },
      "execution_count": null,
      "outputs": [
        {
          "output_type": "stream",
          "name": "stdout",
          "text": [
            "Mean accuracy: 0.5352216809816052\n"
          ]
        }
      ]
    },
    {
      "cell_type": "markdown",
      "source": [
        "AdaBoostClassifier"
      ],
      "metadata": {
        "id": "iQ15UZugwQUe"
      }
    },
    {
      "cell_type": "code",
      "source": [
        "from sklearn.model_selection import train_test_split\n",
        "from sklearn.ensemble import AdaBoostClassifier\n",
        "\n",
        "model = AdaBoostClassifier()\n",
        "scores = cross_val_score(model, X, y, cv=5)\n",
        "\n",
        "mean_accuracy = scores.mean()\n",
        "print(f\"Mean accuracy: {mean_accuracy}\")\n",
        "\n"
      ],
      "metadata": {
        "colab": {
          "base_uri": "https://localhost:8080/"
        },
        "id": "F22xVcbivqK4",
        "outputId": "82c17be9-8bfe-4dd3-ffff-e9efeb53f3e4"
      },
      "execution_count": null,
      "outputs": [
        {
          "output_type": "stream",
          "name": "stdout",
          "text": [
            "Mean accuracy: 0.4305417097609315\n"
          ]
        }
      ]
    },
    {
      "cell_type": "markdown",
      "source": [
        "### Discussion"
      ],
      "metadata": {
        "id": "gPmyHJZR1WxP"
      }
    },
    {
      "cell_type": "markdown",
      "source": [
        "From the accuracy results, it is observed that the random forrest model is the best model out of the 3 to predict the risk level of applicants given the predictive variables\n",
        "\n",
        "A reason why the random forrest model might do better is because the dataset has a lot of variables and the nature of random forrest is at each split it will take a subset of the whole predictor variable set. This will enable the trees to have less variance in prediction which leads to better prediction scores.\n",
        "\n",
        "Adaboost is a boosting algorithm that lets the tree to learn the dataset in small steps however we suspect that due to the large amount of data, it may require more iteration to achieve a better accuracy score."
      ],
      "metadata": {
        "id": "g0At32e4x4-s"
      }
    },
    {
      "cell_type": "markdown",
      "source": [
        "### Kaggle Submission"
      ],
      "metadata": {
        "id": "am4RRClYNa5q"
      }
    },
    {
      "cell_type": "code",
      "source": [
        "from sklearn.ensemble import RandomForestClassifier\n",
        "model = RandomForestClassifier()\n",
        "model.fit(X,y)\n",
        "y_pred=model.predict(df_test)\n",
        "pd.DataFrame({\n",
        "    'Id':df_test.index,\n",
        "    'Response':y_pred\n",
        "}).to_csv('submission.csv',index=False)"
      ],
      "metadata": {
        "id": "2wAIsqETNaNc"
      },
      "execution_count": 172,
      "outputs": []
    },
    {
      "cell_type": "code",
      "source": [],
      "metadata": {
        "id": "HKJQ163fN39e"
      },
      "execution_count": null,
      "outputs": []
    }
  ]
}